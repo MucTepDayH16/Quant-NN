{
 "cells": [
  {
   "cell_type": "code",
   "execution_count": 1,
   "metadata": {},
   "outputs": [],
   "source": [
    "from itertools import *\n",
    "from typing import *\n",
    "\n",
    "import numpy as np\n",
    "import pandas as pd"
   ]
  },
  {
   "cell_type": "code",
   "execution_count": 2,
   "metadata": {},
   "outputs": [],
   "source": [
    "from pyqubo import Binary"
   ]
  },
  {
   "cell_type": "code",
   "execution_count": 3,
   "metadata": {},
   "outputs": [],
   "source": [
    "nodes = pd.read_csv(\"task-2-nodes.csv\", header=None)\n",
    "\n",
    "all_places = []\n",
    "good_places = {2: [], 3: [], 5: [], 9: []}\n",
    "all_good_places = []\n",
    "\n",
    "for i, node in enumerate(nodes.iloc):\n",
    "    name = node[0]\n",
    "    value = node[1]\n",
    "    # print(name, value)\n",
    "\n",
    "    all_places += [name]\n",
    "    if value != 0:\n",
    "        all_good_places += [i]\n",
    "        good_places[value] += [i]\n",
    "\n",
    "adjacency_matrix = pd.read_csv(\"task-2-adjacency_matrix.csv\", index_col=0)\n",
    "\n",
    "edges = {}\n",
    "not_edges = {}\n",
    "for p0, place in enumerate(all_places):\n",
    "    # print(adjacency_matrix[p0])\n",
    "    for p1, value in enumerate(adjacency_matrix[place]):\n",
    "        # print(p1)\n",
    "        if value == \"-\":\n",
    "            not_edges[(p0, p1)] = True\n",
    "        elif p0 != p1:\n",
    "            edges[(p0, p1)] = int(value)"
   ]
  },
  {
   "cell_type": "code",
   "execution_count": 4,
   "metadata": {},
   "outputs": [],
   "source": [
    "T = 15\n",
    "X = len(all_places)\n",
    "K = 15\n",
    "\n",
    "# buses[k,x,t] – Автобус #k находится в месте #x в момент времени #t\n",
    "buses = np.array([\n",
    "    [\n",
    "        [\n",
    "            Binary(f\"buses[{k},{x},{t}]\")\n",
    "            for t in range(T + 1)\n",
    "        ]\n",
    "        for x in range(X)\n",
    "    ]\n",
    "    for k in range(K)\n",
    "])\n",
    "\n",
    "# buses_per_edge[u,v] - Количество автобусов едущих в любую сторону по ребру u<->v\n",
    "buses_per_edge = np.array([\n",
    "    [\n",
    "        Binary(f\"buses_per_edge[{u},{v}]\")\n",
    "        for u in range(X)\n",
    "    ]\n",
    "    for v in range(X)\n",
    "])\n",
    "\n",
    "# visit[k,x] - Автобус #k посетил `хорошее` место #x за всю свою поездку\n",
    "visit = np.array([\n",
    "    [\n",
    "        Binary(f\"visit[{k},{x}]\")\n",
    "        for x in range(X)\n",
    "    ]\n",
    "    for k in range(K)\n",
    "])\n",
    "\n",
    "# passengers[k,p] - Автобус #k везет == p пассажиров\n",
    "passengers = np.array([\n",
    "    [\n",
    "        Binary(f\"passengers[{k},{p}]\")\n",
    "        for p in [2, 3, 5, 9]\n",
    "    ]\n",
    "    for k in range(K)\n",
    "])"
   ]
  },
  {
   "cell_type": "code",
   "execution_count": 5,
   "metadata": {},
   "outputs": [
    {
     "data": {
      "text/plain": [
       "np.int64(17844)"
      ]
     },
     "execution_count": 5,
     "metadata": {},
     "output_type": "execute_result"
    }
   ],
   "source": [
    "np.prod(buses.shape) + np.prod(buses_per_edge.shape) + np.prod(visit.shape) + np.prod(passengers.shape)"
   ]
  },
  {
   "cell_type": "code",
   "execution_count": 6,
   "metadata": {},
   "outputs": [],
   "source": [
    "# Каждый автобус в каждый момент находится только в одной точке\n",
    "H0 = np.sum((np.sum(buses, axis=1) - 1) ** 2)\n",
    "\n",
    "# Каждый автобус в каждом `хорошем` месте побывает <= 1 раза за маршрут\n",
    "# H1 = np.sum(buses, axis=2)[:,]\n",
    "# H1 = np.sum((np.sum(buses, axis=2)[:,good_places] - visit) ** 2)\n",
    "H1 = np.sum((np.sum(buses[:,all_good_places,:], axis=2) - visit[:,all_good_places]) ** 2)\n",
    "\n",
    "# В каждом месте в каждое время находится только один автобус\n",
    "H2 = np.sum((np.sum(buses, axis=0) - 1) ** 2)\n",
    "\n",
    "# Каждый автобус везет одно количество пассажиров\n",
    "H3 = np.sum((np.sum(passengers, axis=1) - 1) ** 2)\n",
    "\n",
    "# Начало и конец на вокзале\n",
    "ts = all_places.index(\"Вокзал\")\n",
    "H4 = np.sum((buses[:,ts,0] - 1) ** 2) + np.sum((buses[:,ts,-1] - 1) ** 2)"
   ]
  },
  {
   "cell_type": "code",
   "execution_count": 7,
   "metadata": {},
   "outputs": [],
   "source": [
    "# Маршрут не может проходить через дорогу, которой нет\n",
    "H5 = np.sum([\n",
    "    np.sum(buses[:,u,:-1] * buses[:,v,1:])\n",
    "    for u, v in not_edges if v > u\n",
    "])"
   ]
  },
  {
   "cell_type": "markdown",
   "metadata": {},
   "source": [
    "Максимизируем чистую прибыль всех автобусов:\n",
    "- Доход - сумма всех билетов с рейса\n",
    "- Расход - проезд по ребрам с весом (бензин и тд.)\n",
    "\n",
    "Доход с одного автобуса равен:\n",
    "$$\n",
    "\\text{Income} = N * \\sum_{n\\ge N} S(n)\n",
    "$$\n",
    "Где $N$ - количество пассажиров в автобусе, $S(N)$ - количество мест на маршруте, где можно уместить ровно $N$ пассажиров.\n",
    "Рассмотрим 4 случая разного количества пассажиров:\n",
    "$$\n",
    "\\begin{matrix}\n",
    "N = 2 & \\Rightarrow & \\text{Income} = 2 * \\left(S(2) +  S(3) +  S(5) +  S(9)\\right) \\\\\n",
    "N = 3 & \\Rightarrow & \\text{Income} = 3 * \\left(        S(3) +  S(5) +  S(9)\\right) \\\\\n",
    "N = 5 & \\Rightarrow & \\text{Income} = 5 * \\left(                S(5) +  S(9)\\right) \\\\\n",
    "N = 9 & \\Rightarrow & \\text{Income} = 9 * \\left(                        S(9)\\right)\n",
    "\\end{matrix}\n",
    "$$\n",
    "\n",
    "Расход с одного автобуса равен:\n",
    "$$\n",
    "\\text{Outcome} = \\sum_{(u,v)\\in \\left(\\text{edges}\\wedge\\text{bus route}\\right)} \\text{cost}_{u,v}\n",
    "$$\n",
    "\n",
    "Вместо максимизации $\\text{Income}$, минимизируем значение $\\overline{\\text{Income}} = \\text{Max Income} - \\text{Income}$. Таким образом, значение $\\overline{\\text{Income}}$ тоже лежит в промежутке $[0, \\text{Max Income}]$. "
   ]
  },
  {
   "cell_type": "code",
   "execution_count": 9,
   "metadata": {},
   "outputs": [],
   "source": [
    "_buses = np.sum(buses, axis=2)\n",
    "\n",
    "P_MAX = 9 * (T - 1)\n",
    "W_MAX = max(edges.values()) * T\n",
    "\n",
    "COST = P_MAX - (\n",
    "    np.sum(2 * passengers[:,0] * np.sum(_buses[:,   good_places[2] +    good_places[3] +    good_places[5] +    good_places[9]], axis=1)) +\n",
    "    np.sum(3 * passengers[:,1] * np.sum(_buses[:,                       good_places[3] +    good_places[5] +    good_places[9]], axis=1)) +\n",
    "    np.sum(5 * passengers[:,2] * np.sum(_buses[:,                                           good_places[5] +    good_places[9]], axis=1)) +\n",
    "    np.sum(9 * passengers[:,3] * np.sum(_buses[:,                                                               good_places[9]], axis=1)) +\n",
    "    0\n",
    ") + (\n",
    "    np.sum([\n",
    "        edges[(u, v)] * buses[k,u,t] * buses[k,v,t+1]\n",
    "        for t in range(T)\n",
    "        for u, v in edges\n",
    "        for k in range(K)\n",
    "    ])\n",
    ")"
   ]
  },
  {
   "cell_type": "code",
   "execution_count": 10,
   "metadata": {},
   "outputs": [],
   "source": [
    "BQM = H0 + H1 + H2 + H3 + H4 + H5 + COST / (P_MAX + W_MAX)"
   ]
  },
  {
   "cell_type": "code",
   "execution_count": 17,
   "metadata": {},
   "outputs": [],
   "source": [
    "model = BQM.compile()\n",
    "qubo, offset = model.to_qubo(index_label=True)"
   ]
  },
  {
   "cell_type": "code",
   "execution_count": 20,
   "metadata": {},
   "outputs": [],
   "source": [
    "variables = len(model.variables)\n",
    "qubo_list = sorted([(r, c, int(v)) for (r, c), v in qubo.items() if int(v) != 0])\n",
    "\n",
    "with open(\"Task_2.edges\", \"w\") as f:\n",
    "    f.write(f\"{variables} {len(qubo_list)}\\n\")\n",
    "    for r, c, v in qubo_list:\n",
    "        f.write(f\"{r} {c} {v}\\n\")"
   ]
  }
 ],
 "metadata": {
  "kernelspec": {
   "display_name": ".venv",
   "language": "python",
   "name": "python3"
  },
  "language_info": {
   "codemirror_mode": {
    "name": "ipython",
    "version": 3
   },
   "file_extension": ".py",
   "mimetype": "text/x-python",
   "name": "python",
   "nbconvert_exporter": "python",
   "pygments_lexer": "ipython3",
   "version": "3.12.7"
  }
 },
 "nbformat": 4,
 "nbformat_minor": 2
}
